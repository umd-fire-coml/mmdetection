{
 "cells": [
  {
   "cell_type": "code",
   "execution_count": 4,
   "metadata": {},
   "outputs": [],
   "source": [
    "import cv2\n",
    "import glob\n",
    "import os\n",
    "from statistics import median  \n",
    "from tqdm import tqdm_notebook as tqdm\n",
    "import matplotlib.pyplot as plt\n",
    "import \n",
    "def getImage(image_path):\n",
    "    image = cv2.imread(image_path)\n",
    "    return image\n",
    "def readDir(dir_path):\n",
    "    channel_s=([],[],[])\n",
    "    channel_d=([],[],[])\n",
    "    result_sums=[]\n",
    "    result_std=[]\n",
    "    counter = 0\n",
    "    total_pixels = 0\n",
    "    for im_path in glob.glob(dir_path+'/*.png'):\n",
    "        if counter%1000 == 0:\n",
    "            print(counter/1000)\n",
    "        im = getImage(im_path)\n",
    "        \n",
    "        for channel_num in range(3):\n",
    "            channel_info=im[:,:,channel_num] \n",
    "            channel_s[channel_num].append(channel_info.sum())\n",
    "            channel_d[channel_num].append(channel_info.std())\n",
    "            \n",
    "        total_pixels += channel_info.shape[0]*channel_info.shape[1]\n",
    "        counter += 1\n",
    "        \n",
    "    for count in range(3):\n",
    "        result_sums.append(sum(channel_s[count])/total_pixels)\n",
    "        result_std.append(sum(channel_d[count])/len(channel_d[count]))\n",
    "    return result_sums,result_std\n",
    "    "
   ]
  },
  {
   "cell_type": "code",
   "execution_count": 102,
   "metadata": {},
   "outputs": [
    {
     "name": "stdout",
     "output_type": "stream",
     "text": [
      "0.0\n",
      "1.0\n",
      "2.0\n",
      "3.0\n",
      "4.0\n",
      "5.0\n",
      "6.0\n",
      "7.0\n"
     ]
    }
   ],
   "source": [
    "s,d=readDir('data/kitti/training/image_2')"
   ]
  },
  {
   "cell_type": "code",
   "execution_count": 103,
   "metadata": {},
   "outputs": [
    {
     "name": "stdout",
     "output_type": "stream",
     "text": [
      "[95.88140094772726, 98.77430677540677, 93.85493258844429]\n"
     ]
    }
   ],
   "source": [
    "print(s)"
   ]
  },
  {
   "cell_type": "code",
   "execution_count": 104,
   "metadata": {},
   "outputs": [
    {
     "name": "stdout",
     "output_type": "stream",
     "text": [
      "[81.19954494926812, 80.13032810045249, 78.7814739573618]\n"
     ]
    }
   ],
   "source": [
    "print(d)"
   ]
  },
  {
   "cell_type": "code",
   "execution_count": 9,
   "metadata": {},
   "outputs": [
    {
     "data": {
      "image/png": "[encoded data removed]",
      "text/plain": [
       "<Figure size 432x288 with 1 Axes>"
      ]
     },
     "metadata": {},
     "output_type": "display_data"
    }
   ],
   "source": [
    "import cv2\n",
    "import numpy as np\n",
    "\n",
    "image = np.array([[[0,0,1.0],[0,0,1.0],[0,0,1.0]]])\n",
    "\n",
    "im = getImage('data/kitti/training/image_2/000001.png')\n",
    "plt.imshow(image)\n",
    "plt.imsave('test',image)"
   ]
  },
  {
   "cell_type": "code",
   "execution_count": 10,
   "metadata": {},
   "outputs": [
    {
     "data": {
      "text/plain": [
       "array([[[255,   0,   0],\n",
       "        [255,   0,   0],\n",
       "        [255,   0,   0]]], dtype=uint8)"
      ]
     },
     "execution_count": 10,
     "metadata": {},
     "output_type": "execute_result"
    }
   ],
   "source": [
    "cv2.imread(\"test.png\")"
   ]
  },
  {
   "cell_type": "code",
   "execution_count": 8,
   "metadata": {},
   "outputs": [],
   "source": [
    "import numpy as np\n",
    "a=np.array([1,2,1,0,1])\n",
    "b=np.array([[1,2,3,4],[5,6,7,8],[9,10,11,12],[13,14,15,16],[17,18,19,20]])\n",
    "ret = [b[a == i,:] for i in range(3)]"
   ]
  },
  {
   "cell_type": "code",
   "execution_count": 9,
   "metadata": {},
   "outputs": [
    {
     "name": "stdout",
     "output_type": "stream",
     "text": [
      "[array([[13, 14, 15, 16]]), array([[ 1,  2,  3,  4],\n",
      "       [ 9, 10, 11, 12],\n",
      "       [17, 18, 19, 20]]), array([[5, 6, 7, 8]])]\n"
     ]
    }
   ],
   "source": [
    "print(ret)"
   ]
  },
  {
   "cell_type": "code",
   "execution_count": null,
   "metadata": {},
   "outputs": [],
   "source": []
  }
 ],
 "metadata": {
  "kernelspec": {
   "display_name": "Python 3",
   "language": "python",
   "name": "python3"
  },
  "language_info": {
   "codemirror_mode": {
    "name": "ipython",
    "version": 3
   },
   "file_extension": ".py",
   "mimetype": "text/x-python",
   "name": "python",
   "nbconvert_exporter": "python",
   "pygments_lexer": "ipython3",
   "version": "3.6.5"
  }
 },
 "nbformat": 4,
 "nbformat_minor": 2
}
